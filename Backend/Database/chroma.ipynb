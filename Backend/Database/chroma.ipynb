{
 "cells": [
  {
   "cell_type": "markdown",
   "metadata": {},
   "source": [
    "## Install Libraries"
   ]
  },
  {
   "cell_type": "code",
   "execution_count": 1,
   "metadata": {},
   "outputs": [],
   "source": [
    "! pip install --quiet --upgrade chromadb"
   ]
  },
  {
   "cell_type": "markdown",
   "metadata": {},
   "source": [
    "## Create Chroma Client"
   ]
  },
  {
   "cell_type": "code",
   "execution_count": 2,
   "metadata": {},
   "outputs": [],
   "source": [
    "import chromadb\n",
    "chroma_client = chromadb.Client()\n"
   ]
  },
  {
   "cell_type": "markdown",
   "metadata": {},
   "source": [
    "## Create Collection"
   ]
  },
  {
   "cell_type": "code",
   "execution_count": null,
   "metadata": {},
   "outputs": [],
   "source": [
    "collection = chroma_client.create_collection(name=\"my_collection\")"
   ]
  },
  {
   "cell_type": "markdown",
   "metadata": {},
   "source": [
    "## Add Documents to Collection"
   ]
  },
  {
   "cell_type": "markdown",
   "metadata": {},
   "source": [
    "#### Create Dataframes"
   ]
  },
  {
   "cell_type": "code",
   "execution_count": null,
   "metadata": {},
   "outputs": [],
   "source": [
    "import pandas as pd\n",
    "events = pd.read_csv(\"Backend/events.csv\")\n",
    "ostem = pd.read_csv(\"Backend/ostems.csv\")\n",
    "pathways = pd.read_csv(\"Backend/pathways.csv\")\n",
    "research = pd.read_csv(\"Backend/solicitations.csv\")"
   ]
  },
  {
   "cell_type": "markdown",
   "metadata": {},
   "source": [
    "## Events"
   ]
  },
  {
   "cell_type": "code",
   "execution_count": null,
   "metadata": {},
   "outputs": [
    {
     "data": {
      "text/plain": [
       "0    12/4 “FIRST WOMEN Series” Live Q&A: NASA's 202...\n",
       "1    Celebrating Native American Heritage Month wit...\n",
       "2                      FY25 NCAS Mission 1: Discover B\n",
       "3    12/5 Celebrate Computer Science at KSC: Virtua...\n",
       "4    12/11 Virtual Classroom Connection: Astro-Not-...\n",
       "5             Exp 73 NGS In-Flight Education Downlinks\n",
       "6    12/12 Surprisingly STEM Live Q&A: Memory Metal...\n",
       "7    2024-25 NASA STEM Kids Virtual Event Group Reg...\n",
       "8    2024-25 NASA STEM Kids Virtual Event Individua...\n",
       "Name: Title, dtype: object"
      ]
     },
     "metadata": {},
     "output_type": "display_data"
    }
   ],
   "source": [
    "id=events[\"ID\"]\n",
    "title=events[\"Title\"]\n",
    "description=events[\"Description\"]\n",
    "\n",
    "\n",
    "display(title)"
   ]
  }
 ],
 "metadata": {
  "kernelspec": {
   "display_name": "base",
   "language": "python",
   "name": "python3"
  },
  "language_info": {
   "codemirror_mode": {
    "name": "ipython",
    "version": 3
   },
   "file_extension": ".py",
   "mimetype": "text/x-python",
   "name": "python",
   "nbconvert_exporter": "python",
   "pygments_lexer": "ipython3",
   "version": "3.9.19"
  }
 },
 "nbformat": 4,
 "nbformat_minor": 2
}
