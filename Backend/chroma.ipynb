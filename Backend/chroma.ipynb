{
 "cells": [
  {
   "cell_type": "markdown",
   "metadata": {},
   "source": [
    "## Install Libraries"
   ]
  },
  {
   "cell_type": "code",
   "execution_count": 6,
   "metadata": {},
   "outputs": [],
   "source": [
    "! pip install --quiet --upgrade chromadb\n",
    "! pip install --quiet --upgrade pandas\n",
    "! pip install --quiet --upgrade llama-index\n",
    "! pip install --quiet --upgrade openai"
   ]
  },
  {
   "cell_type": "markdown",
   "metadata": {},
   "source": [
    "## Setup Model\n",
    "#### Must create environment variable with key https://help.openai.com/en/articles/5112595-best-practices-for-api-key-safety"
   ]
  },
  {
   "cell_type": "code",
   "execution_count": null,
   "metadata": {},
   "outputs": [],
   "source": [
    "import os\n",
    "import openai\n",
    "openai.api_key = os.environ[\"OPENAI_API_KEY\"]"
   ]
  },
  {
   "cell_type": "markdown",
   "metadata": {},
   "source": [
    "## Create Chroma Client"
   ]
  },
  {
   "cell_type": "code",
   "execution_count": 3,
   "metadata": {},
   "outputs": [],
   "source": [
    "import chromadb\n",
    "chroma_client = chromadb.Client()\n"
   ]
  },
  {
   "cell_type": "markdown",
   "metadata": {},
   "source": [
    "## Create Collection"
   ]
  },
  {
   "cell_type": "code",
   "execution_count": 12,
   "metadata": {},
   "outputs": [],
   "source": [
    "collection = chroma_client.create_collection(name=\"my_collection\")"
   ]
  },
  {
   "cell_type": "markdown",
   "metadata": {},
   "source": [
    "## Add Documents to Collection"
   ]
  },
  {
   "cell_type": "markdown",
   "metadata": {},
   "source": [
    "#### Create Dataframes"
   ]
  },
  {
   "cell_type": "code",
   "execution_count": 4,
   "metadata": {},
   "outputs": [],
   "source": [
    "import pandas as pd\n",
    "\n",
    "relativePath=\"data/\"\n",
    "\n",
    "events = pd.read_csv(f\"{relativePath}events.csv\")\n",
    "ostem = pd.read_csv(f\"{relativePath}ostems.csv\")\n",
    "pathways = pd.read_csv(f\"{relativePath}pathways.csv\")\n",
    "research = pd.read_csv(f\"{relativePath}solicitations.csv\")"
   ]
  },
  {
   "cell_type": "markdown",
   "metadata": {},
   "source": [
    "#### Events"
   ]
  },
  {
   "cell_type": "code",
   "execution_count": null,
   "metadata": {},
   "outputs": [],
   "source": [
    "idEvents=events[\"ID\"]\n",
    "titleEvents=events[\"Title\"]\n",
    "descriptionEvents=events[\"Description\"]\n",
    "urlEvents=events[\"URL\"]\n",
    "typeEvents=events[\"Type\"]\n",
    "\n",
    "display(events)"
   ]
  },
  {
   "cell_type": "markdown",
   "metadata": {},
   "source": [
    "#### OSTEM"
   ]
  },
  {
   "cell_type": "code",
   "execution_count": null,
   "metadata": {},
   "outputs": [],
   "source": [
    "idOstem=ostem[\"ID\"]\n",
    "titleOstem=ostem[\"Title\"]\n",
    "descriptionOstem=ostem[\"Description\"]\n",
    "urlOstem=ostem[\"URL\"]\n",
    "typeOstem=ostem[\"Type\"]\n",
    "\n",
    "display(ostem)"
   ]
  },
  {
   "cell_type": "markdown",
   "metadata": {},
   "source": [
    "#### Pathways"
   ]
  },
  {
   "cell_type": "code",
   "execution_count": null,
   "metadata": {},
   "outputs": [],
   "source": [
    "idPathways=pathways[\"ID\"]\n",
    "titlePathways=pathways[\"Title\"]\n",
    "educationLevel=pathways[\"Education Level\"]\n",
    "urlPathways=pathways[\"URL\"]\n",
    "majorsPathways=pathways[:\"Majors\"]\n",
    "\n",
    "display(pathways)"
   ]
  },
  {
   "cell_type": "markdown",
   "metadata": {},
   "source": [
    "#### Research"
   ]
  },
  {
   "cell_type": "code",
   "execution_count": null,
   "metadata": {},
   "outputs": [],
   "source": [
    "idResearch=research[\"ID\"]\n",
    "titleResearch=research[\"Solicitation Title\"]\n",
    "status=research[\"Status\"]\n",
    "idResearch=research[\"Solicitation ID\"]\n",
    "urlResearch=research[\"URL\"]\n",
    "\n",
    "display(research)"
   ]
  },
  {
   "cell_type": "markdown",
   "metadata": {},
   "source": [
    "#### Create Nodes"
   ]
  },
  {
   "cell_type": "code",
   "execution_count": null,
   "metadata": {},
   "outputs": [],
   "source": [
    "import pandas as pd\n",
    "import chromadb\n",
    "from chromadb.utils import embedding_functions\n",
    "\n",
    "ostem = pd.read_csv(\"data/ostems.csv\")\n",
    "\n",
    "# Create Chroma client\n",
    "client = chromadb.Client()\n",
    "\n",
    "# Create embedding function (using default)\n",
    "embedding_function = embedding_functions.DefaultEmbeddingFunction()\n",
    "\n",
    "# Create collection\n",
    "collection = client.create_collection(\n",
    "    name=\"nasa_ostem\",\n",
    "    embedding_function=embedding_function,\n",
    "    get_or_create=True\n",
    ")\n",
    "\n",
    "# Prepare data for Chroma\n",
    "documents = ostem['Description'].tolist()\n",
    "metadatas = ostem.apply(lambda x: {\n",
    "    'id': str(x['ID']),\n",
    "    'title': x['Title'],\n",
    "    'url': x['URL'],\n",
    "    'type': x['Type']\n",
    "}, axis=1).tolist()\n",
    "ids = ostem['ID'].astype(str).tolist()\n",
    "\n",
    "# Add data to collection\n",
    "collection.add(\n",
    "    documents=documents,\n",
    "    metadatas=metadatas,\n",
    "    ids=ids\n",
    ")\n"
   ]
  },
  {
   "cell_type": "code",
   "execution_count": 5,
   "metadata": {},
   "outputs": [
    {
     "data": {
      "text/plain": [
       "{'ids': [[]],\n",
       " 'embeddings': None,\n",
       " 'documents': [[]],\n",
       " 'uris': None,\n",
       " 'data': None,\n",
       " 'metadatas': [[]],\n",
       " 'distances': [[]],\n",
       " 'included': [<IncludeEnum.distances: 'distances'>,\n",
       "  <IncludeEnum.documents: 'documents'>,\n",
       "  <IncludeEnum.metadatas: 'metadatas'>]}"
      ]
     },
     "metadata": {},
     "output_type": "display_data"
    }
   ],
   "source": [
    "results = collection.query(\n",
    "    query_texts=[\"internship opportunities\"],\n",
    "    n_results=3\n",
    ")\n",
    "\n",
    "display(results)\n"
   ]
  }
 ],
 "metadata": {
  "kernelspec": {
   "display_name": "Python 3",
   "language": "python",
   "name": "python3"
  },
  "language_info": {
   "codemirror_mode": {
    "name": "ipython",
    "version": 3
   },
   "file_extension": ".py",
   "mimetype": "text/x-python",
   "name": "python",
   "nbconvert_exporter": "python",
   "pygments_lexer": "ipython3",
   "version": "3.12.0"
  }
 },
 "nbformat": 4,
 "nbformat_minor": 2
}
